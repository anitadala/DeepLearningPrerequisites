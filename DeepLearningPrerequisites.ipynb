{
  "nbformat": 4,
  "nbformat_minor": 0,
  "metadata": {
    "colab": {
      "name": "DeepLearningPrerequisites.ipynb",
      "provenance": [],
      "toc_visible": true,
      "authorship_tag": "ABX9TyMDk83l1VNrHjizvxC9TR6/",
      "include_colab_link": true
    },
    "kernelspec": {
      "name": "python3",
      "display_name": "Python 3"
    }
  },
  "cells": [
    {
      "cell_type": "markdown",
      "metadata": {
        "id": "view-in-github",
        "colab_type": "text"
      },
      "source": [
        "<a href=\"https://colab.research.google.com/github/anitadala/DeepLearningPrerequisites/blob/master/DeepLearningPrerequisites.ipynb\" target=\"_parent\"><img src=\"https://colab.research.google.com/assets/colab-badge.svg\" alt=\"Open In Colab\"/></a>"
      ]
    },
    {
      "cell_type": "code",
      "metadata": {
        "id": "v44h3z9-Q6_r",
        "colab_type": "code",
        "colab": {}
      },
      "source": [
        "#Arrays vs Lists\n",
        "import numpy as np\n"
      ],
      "execution_count": 1,
      "outputs": []
    },
    {
      "cell_type": "code",
      "metadata": {
        "id": "DPfoLKTMR0Yx",
        "colab_type": "code",
        "colab": {
          "base_uri": "https://localhost:8080/",
          "height": 36
        },
        "outputId": "80c3531d-fcee-4686-eedf-08a6a942c8c8"
      },
      "source": [
        "#Lists in python\n",
        "L = [1,2,3]\n",
        "L"
      ],
      "execution_count": 2,
      "outputs": [
        {
          "output_type": "execute_result",
          "data": {
            "text/plain": [
              "[1, 2, 3]"
            ]
          },
          "metadata": {
            "tags": []
          },
          "execution_count": 2
        }
      ]
    },
    {
      "cell_type": "code",
      "metadata": {
        "id": "OB8BmzKRR7YT",
        "colab_type": "code",
        "colab": {
          "base_uri": "https://localhost:8080/",
          "height": 36
        },
        "outputId": "237cb071-28ed-4fae-a0e7-46bb96b86a24"
      },
      "source": [
        "#Arrays in numpy\n",
        "A = np.array([1,2,3])\n",
        "A"
      ],
      "execution_count": 4,
      "outputs": [
        {
          "output_type": "execute_result",
          "data": {
            "text/plain": [
              "array([1, 2, 3])"
            ]
          },
          "metadata": {
            "tags": []
          },
          "execution_count": 4
        }
      ]
    },
    {
      "cell_type": "code",
      "metadata": {
        "id": "EVnSVfTBSGfA",
        "colab_type": "code",
        "colab": {
          "base_uri": "https://localhost:8080/",
          "height": 36
        },
        "outputId": "e9e653ea-d112-4b7f-a864-2f433cae141e"
      },
      "source": [
        "L = L + [4]\n",
        "L"
      ],
      "execution_count": 5,
      "outputs": [
        {
          "output_type": "execute_result",
          "data": {
            "text/plain": [
              "[1, 2, 3, 4]"
            ]
          },
          "metadata": {
            "tags": []
          },
          "execution_count": 5
        }
      ]
    },
    {
      "cell_type": "code",
      "metadata": {
        "id": "MRLOOlWmSLlJ",
        "colab_type": "code",
        "colab": {
          "base_uri": "https://localhost:8080/",
          "height": 36
        },
        "outputId": "71367973-cd60-4f46-84fc-7adfde7abf5b"
      },
      "source": [
        "A = A + np.array([4])\n",
        "A\n",
        "#As we can see in numpy 4 is added to eah element of the array\n",
        "#it does not appended or concatenated to the array like in lists do.\n"
      ],
      "execution_count": 6,
      "outputs": [
        {
          "output_type": "execute_result",
          "data": {
            "text/plain": [
              "array([5, 6, 7])"
            ]
          },
          "metadata": {
            "tags": []
          },
          "execution_count": 6
        }
      ]
    },
    {
      "cell_type": "code",
      "metadata": {
        "id": "mGCSGGqjSibY",
        "colab_type": "code",
        "colab": {}
      },
      "source": [
        "L.append(5)\n",
        "L\n",
        "#size of a list can change but size of an array is fixed"
      ],
      "execution_count": null,
      "outputs": []
    },
    {
      "cell_type": "code",
      "metadata": {
        "id": "quASElBITPdo",
        "colab_type": "code",
        "colab": {
          "base_uri": "https://localhost:8080/",
          "height": 36
        },
        "outputId": "bf06da05-a934-4325-f57f-39d5a8ea2497"
      },
      "source": [
        "A = A + np.array([2,2,3])\n",
        "A\n",
        "#elements are added individually to the array elements"
      ],
      "execution_count": 12,
      "outputs": [
        {
          "output_type": "execute_result",
          "data": {
            "text/plain": [
              "array([ 7,  8, 10])"
            ]
          },
          "metadata": {
            "tags": []
          },
          "execution_count": 12
        }
      ]
    },
    {
      "cell_type": "code",
      "metadata": {
        "id": "OmRDEBvxTg7-",
        "colab_type": "code",
        "colab": {
          "base_uri": "https://localhost:8080/",
          "height": 36
        },
        "outputId": "f77fb0c3-0c62-42c6-a0d2-ee956083c6aa"
      },
      "source": [
        "#Scaler Multiplication\n",
        "2*A\n"
      ],
      "execution_count": 13,
      "outputs": [
        {
          "output_type": "execute_result",
          "data": {
            "text/plain": [
              "array([14, 16, 20])"
            ]
          },
          "metadata": {
            "tags": []
          },
          "execution_count": 13
        }
      ]
    },
    {
      "cell_type": "code",
      "metadata": {
        "id": "eclIZjd1UonW",
        "colab_type": "code",
        "colab": {
          "base_uri": "https://localhost:8080/",
          "height": 36
        },
        "outputId": "b98d6fb5-6210-4e16-c937-af3a3022b1f2"
      },
      "source": [
        "L = 2 * [1,2,3]\n",
        "#It seems like the list multiply the occurances of the elements present in it"
      ],
      "execution_count": 20,
      "outputs": [
        {
          "output_type": "execute_result",
          "data": {
            "text/plain": [
              "[1, 2, 3, 1, 2, 3]"
            ]
          },
          "metadata": {
            "tags": []
          },
          "execution_count": 20
        }
      ]
    },
    {
      "cell_type": "code",
      "metadata": {
        "id": "eLT4ttBeVUU1",
        "colab_type": "code",
        "colab": {
          "base_uri": "https://localhost:8080/",
          "height": 36
        },
        "outputId": "35f1c9cf-7f6e-4557-b1c5-c3eeee844705"
      },
      "source": [
        "L2= []\n",
        "for e in L:\n",
        "  L2.append(e+3)\n",
        "L2\n",
        "#for adding a particular number to each element of the list"
      ],
      "execution_count": 23,
      "outputs": [
        {
          "output_type": "execute_result",
          "data": {
            "text/plain": [
              "[4, 5, 6, 4, 5, 6]"
            ]
          },
          "metadata": {
            "tags": []
          },
          "execution_count": 23
        }
      ]
    },
    {
      "cell_type": "code",
      "metadata": {
        "id": "LI4DTlvgWDeS",
        "colab_type": "code",
        "colab": {
          "base_uri": "https://localhost:8080/",
          "height": 36
        },
        "outputId": "2dd6fef8-0b68-4427-81d0-a951fc433351"
      },
      "source": [
        "#Squaring each element in np array vs lists\n",
        "#np.arrays:\n",
        "A**2\n",
        "#LISTS\n",
        "l2=[]\n",
        "for e in L:\n",
        "  l2.append(e**2)\n",
        "l2"
      ],
      "execution_count": 25,
      "outputs": [
        {
          "output_type": "execute_result",
          "data": {
            "text/plain": [
              "[1, 4, 9, 1, 4, 9]"
            ]
          },
          "metadata": {
            "tags": []
          },
          "execution_count": 25
        }
      ]
    },
    {
      "cell_type": "code",
      "metadata": {
        "id": "53wpn_iNWo4N",
        "colab_type": "code",
        "colab": {
          "base_uri": "https://localhost:8080/",
          "height": 36
        },
        "outputId": "78e93a94-1f1b-4723-e069-913722f854e4"
      },
      "source": [
        "np.sqrt(A)"
      ],
      "execution_count": 26,
      "outputs": [
        {
          "output_type": "execute_result",
          "data": {
            "text/plain": [
              "array([2.64575131, 2.82842712, 3.16227766])"
            ]
          },
          "metadata": {
            "tags": []
          },
          "execution_count": 26
        }
      ]
    },
    {
      "cell_type": "code",
      "metadata": {
        "id": "k25A0XhWWxoX",
        "colab_type": "code",
        "colab": {
          "base_uri": "https://localhost:8080/",
          "height": 36
        },
        "outputId": "a6a53b0e-6b8b-45b0-c135-65e82232f69a"
      },
      "source": [
        "np.log(A)"
      ],
      "execution_count": 27,
      "outputs": [
        {
          "output_type": "execute_result",
          "data": {
            "text/plain": [
              "array([1.94591015, 2.07944154, 2.30258509])"
            ]
          },
          "metadata": {
            "tags": []
          },
          "execution_count": 27
        }
      ]
    },
    {
      "cell_type": "code",
      "metadata": {
        "id": "xGeAREdJWzBW",
        "colab_type": "code",
        "colab": {
          "base_uri": "https://localhost:8080/",
          "height": 36
        },
        "outputId": "b60ab9f3-347b-4007-84a1-f52d7a9373a1"
      },
      "source": [
        "np.exp(A)"
      ],
      "execution_count": 28,
      "outputs": [
        {
          "output_type": "execute_result",
          "data": {
            "text/plain": [
              "array([ 1096.63315843,  2980.95798704, 22026.46579481])"
            ]
          },
          "metadata": {
            "tags": []
          },
          "execution_count": 28
        }
      ]
    },
    {
      "cell_type": "code",
      "metadata": {
        "id": "J_6-PylhW-a_",
        "colab_type": "code",
        "colab": {
          "base_uri": "https://localhost:8080/",
          "height": 36
        },
        "outputId": "e029d441-a3af-4d40-9622-b05ff8bf9c91"
      },
      "source": [
        "np.tanh(A)"
      ],
      "execution_count": 29,
      "outputs": [
        {
          "output_type": "execute_result",
          "data": {
            "text/plain": [
              "array([0.99999834, 0.99999977, 1.        ])"
            ]
          },
          "metadata": {
            "tags": []
          },
          "execution_count": 29
        }
      ]
    },
    {
      "cell_type": "code",
      "metadata": {
        "id": "auLWM_YIXDKK",
        "colab_type": "code",
        "colab": {}
      },
      "source": [
        "#Sum Up:\n",
        "#A lists looks like an array but it is more like an generic data structure\n",
        "#while a numpy array is specifically used to do math"
      ],
      "execution_count": null,
      "outputs": []
    },
    {
      "cell_type": "code",
      "metadata": {
        "id": "DlfnJyuZXYV1",
        "colab_type": "code",
        "colab": {}
      },
      "source": [
        ""
      ],
      "execution_count": null,
      "outputs": []
    },
    {
      "cell_type": "markdown",
      "metadata": {
        "id": "4AmShjWWXf5R",
        "colab_type": "text"
      },
      "source": [
        "#DOT PRODUCT"
      ]
    },
    {
      "cell_type": "code",
      "metadata": {
        "id": "WE6vY6EtXmVv",
        "colab_type": "code",
        "colab": {}
      },
      "source": [
        "A = np.array([1,2])\n",
        "B = np.array([3,4])"
      ],
      "execution_count": 33,
      "outputs": []
    },
    {
      "cell_type": "code",
      "metadata": {
        "id": "kDMRP3GJXw_v",
        "colab_type": "code",
        "colab": {
          "base_uri": "https://localhost:8080/",
          "height": 36
        },
        "outputId": "716c0f7e-1af9-42a3-eb8c-a83400e1c281"
      },
      "source": [
        "dot = 0\n",
        "for e,f in zip(A,B):\n",
        "  dot += e*f\n",
        "\n",
        "dot"
      ],
      "execution_count": 35,
      "outputs": [
        {
          "output_type": "execute_result",
          "data": {
            "text/plain": [
              "11"
            ]
          },
          "metadata": {
            "tags": []
          },
          "execution_count": 35
        }
      ]
    },
    {
      "cell_type": "code",
      "metadata": {
        "id": "cSKFkRPFY9nT",
        "colab_type": "code",
        "colab": {
          "base_uri": "https://localhost:8080/",
          "height": 36
        },
        "outputId": "47ce3f9e-3fea-4a87-d4a5-54e41b89e686"
      },
      "source": [
        "A*B"
      ],
      "execution_count": 36,
      "outputs": [
        {
          "output_type": "execute_result",
          "data": {
            "text/plain": [
              "array([3, 8])"
            ]
          },
          "metadata": {
            "tags": []
          },
          "execution_count": 36
        }
      ]
    },
    {
      "cell_type": "code",
      "metadata": {
        "id": "NJKjqDDfZDwP",
        "colab_type": "code",
        "colab": {
          "base_uri": "https://localhost:8080/",
          "height": 36
        },
        "outputId": "6257275d-42b1-4949-dc5e-7febb3e1121c"
      },
      "source": [
        "np.sum(A*B)"
      ],
      "execution_count": 37,
      "outputs": [
        {
          "output_type": "execute_result",
          "data": {
            "text/plain": [
              "11"
            ]
          },
          "metadata": {
            "tags": []
          },
          "execution_count": 37
        }
      ]
    },
    {
      "cell_type": "code",
      "metadata": {
        "id": "S0ps3ZUQZO_r",
        "colab_type": "code",
        "colab": {
          "base_uri": "https://localhost:8080/",
          "height": 36
        },
        "outputId": "2e8e5256-20ce-4b26-ba4a-28bce344db77"
      },
      "source": [
        "np.dot(A,B)"
      ],
      "execution_count": 39,
      "outputs": [
        {
          "output_type": "execute_result",
          "data": {
            "text/plain": [
              "11"
            ]
          },
          "metadata": {
            "tags": []
          },
          "execution_count": 39
        }
      ]
    },
    {
      "cell_type": "code",
      "metadata": {
        "id": "rZB19RzVZekf",
        "colab_type": "code",
        "colab": {
          "base_uri": "https://localhost:8080/",
          "height": 36
        },
        "outputId": "fb071048-26bb-4fe6-fab8-6bfb363c2d5e"
      },
      "source": [
        "A.dot(B)"
      ],
      "execution_count": 40,
      "outputs": [
        {
          "output_type": "execute_result",
          "data": {
            "text/plain": [
              "11"
            ]
          },
          "metadata": {
            "tags": []
          },
          "execution_count": 40
        }
      ]
    },
    {
      "cell_type": "code",
      "metadata": {
        "id": "7iqsQUTQZi2r",
        "colab_type": "code",
        "colab": {
          "base_uri": "https://localhost:8080/",
          "height": 36
        },
        "outputId": "cf3272c6-f82a-445d-f739-ba60b88532c5"
      },
      "source": [
        "A@B"
      ],
      "execution_count": 41,
      "outputs": [
        {
          "output_type": "execute_result",
          "data": {
            "text/plain": [
              "11"
            ]
          },
          "metadata": {
            "tags": []
          },
          "execution_count": 41
        }
      ]
    },
    {
      "cell_type": "code",
      "metadata": {
        "id": "1JEuCyh6Zl2l",
        "colab_type": "code",
        "colab": {
          "base_uri": "https://localhost:8080/",
          "height": 36
        },
        "outputId": "9bf4f6f0-879b-4c46-cd15-cc8f10828cc5"
      },
      "source": [
        "#we can find out the magnitude of an vector \n",
        "mag = np.sqrt((A*A).sum())\n",
        "mag"
      ],
      "execution_count": 43,
      "outputs": [
        {
          "output_type": "execute_result",
          "data": {
            "text/plain": [
              "2.23606797749979"
            ]
          },
          "metadata": {
            "tags": []
          },
          "execution_count": 43
        }
      ]
    },
    {
      "cell_type": "code",
      "metadata": {
        "id": "HfbJBlpMaK-y",
        "colab_type": "code",
        "colab": {
          "base_uri": "https://localhost:8080/",
          "height": 36
        },
        "outputId": "429c7bc0-dfbf-48eb-fa1d-379f625920a4"
      },
      "source": [
        "#or by using:\n",
        "np.linalg.norm(A)"
      ],
      "execution_count": 44,
      "outputs": [
        {
          "output_type": "execute_result",
          "data": {
            "text/plain": [
              "2.23606797749979"
            ]
          },
          "metadata": {
            "tags": []
          },
          "execution_count": 44
        }
      ]
    },
    {
      "cell_type": "code",
      "metadata": {
        "id": "GRNfn-peaU3T",
        "colab_type": "code",
        "colab": {
          "base_uri": "https://localhost:8080/",
          "height": 36
        },
        "outputId": "fb00eb8b-f1b9-4e00-d279-2554f1ff5753"
      },
      "source": [
        "cosanglebwAandB = A.dot(B)/(np.linalg.norm(A)*np.linalg.norm(B))\n",
        "cosanglebwAandB "
      ],
      "execution_count": 46,
      "outputs": [
        {
          "output_type": "execute_result",
          "data": {
            "text/plain": [
              "0.9838699100999074"
            ]
          },
          "metadata": {
            "tags": []
          },
          "execution_count": 46
        }
      ]
    },
    {
      "cell_type": "markdown",
      "metadata": {
        "id": "sOahp6PmbI-F",
        "colab_type": "text"
      },
      "source": [
        "# Speed Test"
      ]
    },
    {
      "cell_type": "code",
      "metadata": {
        "id": "UYhzkcqibNF3",
        "colab_type": "code",
        "colab": {}
      },
      "source": [
        ""
      ],
      "execution_count": null,
      "outputs": []
    }
  ]
}